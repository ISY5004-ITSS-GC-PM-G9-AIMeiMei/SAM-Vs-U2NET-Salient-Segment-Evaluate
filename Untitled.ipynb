{
 "cells": [
  {
   "cell_type": "code",
   "execution_count": 3,
   "id": "35e77bda-bc10-4f8a-9582-dca658bb00d8",
   "metadata": {},
   "outputs": [
    {
     "name": "stdout",
     "output_type": "stream",
     "text": [
      "No numbers missing in the sequence.\n"
     ]
    }
   ],
   "source": [
    "import os\n",
    "import re\n",
    "\n",
    "def find_missing_numbers(folder_path):\n",
    "    # List all files in the directory\n",
    "    files = os.listdir(folder_path)\n",
    "    \n",
    "    # We'll store numeric values here\n",
    "    numbers = []\n",
    "    \n",
    "    # Regex to capture a number from the filename (e.g., \"123\" in \"123.jpg\")\n",
    "    # Adjust this if your filenames have a different pattern\n",
    "    pattern = re.compile(r\"^(\\d+)\")\n",
    "    \n",
    "    for f in files:\n",
    "        match = pattern.match(f)\n",
    "        if match:\n",
    "            num_str = match.group(1)\n",
    "            numbers.append(int(num_str))\n",
    "    \n",
    "    if not numbers:\n",
    "        print(\"No numeric filenames found.\")\n",
    "        return\n",
    "    \n",
    "    # Determine the range to check: from min to max number in the set\n",
    "    min_num, max_num = min(numbers), max(numbers)\n",
    "    \n",
    "    # Create a set of all numbers found\n",
    "    numbers_set = set(numbers)\n",
    "    \n",
    "    # Find missing numbers\n",
    "    missing = []\n",
    "    for n in range(min_num, max_num + 1):\n",
    "        if n not in numbers_set:\n",
    "            missing.append(n)\n",
    "    \n",
    "    # Print results\n",
    "    if missing:\n",
    "        print(\"Missing file numbers:\")\n",
    "        for m in missing:\n",
    "            print(m)\n",
    "    else:\n",
    "        print(\"No numbers missing in the sequence.\")\n",
    "\n",
    "# Usage example:\n",
    "if __name__ == \"__main__\":\n",
    "    folder_path = r\"images\"  # Replace with your folder path\n",
    "    find_missing_numbers(folder_path)\n"
   ]
  },
  {
   "cell_type": "code",
   "execution_count": null,
   "id": "2daa2585-0a33-47d6-88b2-988073f29c53",
   "metadata": {},
   "outputs": [],
   "source": []
  }
 ],
 "metadata": {
  "kernelspec": {
   "display_name": "Python 3 (ipykernel)",
   "language": "python",
   "name": "python3"
  },
  "language_info": {
   "codemirror_mode": {
    "name": "ipython",
    "version": 3
   },
   "file_extension": ".py",
   "mimetype": "text/x-python",
   "name": "python",
   "nbconvert_exporter": "python",
   "pygments_lexer": "ipython3",
   "version": "3.12.7"
  }
 },
 "nbformat": 4,
 "nbformat_minor": 5
}
